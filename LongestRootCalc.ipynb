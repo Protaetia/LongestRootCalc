{
  "nbformat": 4,
  "nbformat_minor": 0,
  "metadata": {
    "colab": {
      "name": "LongestRootCalc.ipynb",
      "provenance": [],
      "collapsed_sections": []
    },
    "kernelspec": {
      "name": "python3",
      "display_name": "Python 3"
    },
    "language_info": {
      "name": "python"
    }
  },
  "cells": [
    {
      "cell_type": "code",
      "metadata": {
        "id": "o9Pxo9elv3WC"
      },
      "source": [
        "pip install graphillion"
      ],
      "execution_count": null,
      "outputs": []
    },
    {
      "cell_type": "code",
      "metadata": {
        "id": "gB5ji93zwDh6"
      },
      "source": [
        "from graphillion import GraphSet as gs\n",
        "import pandas as pd\n",
        "\n",
        "df=pd.read_csv(\"\",sep=\",\")  #任意のcsvファイルを読み込み\n",
        "\n",
        "univ=[]\n",
        "weigths={}\n",
        "lines={}\n",
        "\n",
        "for i, v in df.iterrows():\n",
        " edge=(v[\"start\"], v[\"end\"])\n",
        " univ.append(edge)\n",
        " weigths[edge]=v[\"kiro\"]\n",
        " lines[edge]=v[\"line\"]\n",
        "\n",
        "gs.set_universe(univ)\n",
        "s_sta='s_sta'\n",
        "e_sta='e_sta'\n",
        "paths=gs.paths(s_sta, e_sta)\n",
        "max_paths=paths.max_iter(weigths)\n",
        "\n",
        "n=0 #n番目に長い経路を算出\n",
        "\n",
        "for i in range(n):\n",
        "  max_path=next(max_paths)\n",
        "\n",
        "n_sta=s_sta\n",
        "dat=[]\n",
        "for i in range(len(max_path)): \n",
        "  for j in range(len(max_path)): \n",
        "    if max_path[j][0]==n_sta:\n",
        "      dat.append(max_path[j])\n",
        "      n_sta=max_path[j][1]\n",
        "      max_path.pop(j)\n",
        "      break\n",
        "    elif max_path[j][1]==n_sta:\n",
        "      dat.append(max_path[j])\n",
        "      n_sta=max_path[j][0]\n",
        "      max_path.pop(j)\n",
        "      break\n",
        "\n",
        "sum=0\n",
        "print(n, '番目に長い経路は以下の通り\\n')\n",
        "for i in range(len(dat)):\n",
        "  print(dat[i], lines[dat[i]])\n",
        "  sum+=weigths[dat[i]]\n",
        "print('\\n実乗営業キロは', sum, 'km')\n"
      ],
      "execution_count": null,
      "outputs": []
    }
  ]
}